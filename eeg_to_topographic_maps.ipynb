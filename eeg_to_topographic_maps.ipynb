{
  "cells": [
    {
      "cell_type": "markdown",
      "source": [
        "# Set Up"
      ],
      "metadata": {
        "id": "Pff2dwG7efoT"
      },
      "id": "Pff2dwG7efoT"
    },
    {
      "cell_type": "code",
      "source": [
        "# Install python-mne\n",
        "!pip install mne"
      ],
      "metadata": {
        "id": "LlfoaWt1V4VB"
      },
      "id": "LlfoaWt1V4VB",
      "execution_count": null,
      "outputs": []
    },
    {
      "cell_type": "code",
      "source": [
        "# Connect to Google Drive\n",
        "from google.colab import drive\n",
        "drive.mount('/content/drive')"
      ],
      "metadata": {
        "id": "RK8h1sVLXJVo"
      },
      "id": "RK8h1sVLXJVo",
      "execution_count": null,
      "outputs": []
    },
    {
      "cell_type": "code",
      "source": [
        "# Import necessary libraries\n",
        "import os\n",
        "import pandas as pd\n",
        "import mne\n",
        "import numpy as np\n",
        "import scipy.io\n",
        "from matplotlib import pyplot as plt\n",
        "from scipy.io import loadmat\n",
        "import math as m\n",
        "from scipy.interpolate import griddata"
      ],
      "metadata": {
        "id": "30wFw3NaeTKt"
      },
      "id": "30wFw3NaeTKt",
      "execution_count": null,
      "outputs": []
    },
    {
      "cell_type": "code",
      "source": [
        "# Environment setup\n",
        "os.environ[\"CUDA_VISIBLE_DEVICES\"] = \"1,2\""
      ],
      "metadata": {
        "id": "CLPxRwggeVO7"
      },
      "id": "CLPxRwggeVO7",
      "execution_count": null,
      "outputs": []
    },
    {
      "cell_type": "markdown",
      "source": [
        "# Initialise Variables"
      ],
      "metadata": {
        "id": "3jU4GHtme7r3"
      },
      "id": "3jU4GHtme7r3"
    },
    {
      "cell_type": "code",
      "source": [
        "VideoNumber = 20\n",
        "sfreq = 128\n",
        "Npoints = sfreq * 60\n",
        "startPoint = Npoints * (VideoNumber - 1)\n",
        "endPoint = Npoints * VideoNumber\n",
        "OriginalNumberofChannels = 48\n",
        "NumberOfEEGChannel = 32\n",
        "lengthOfTopographicMap = 40"
      ],
      "metadata": {
        "id": "_-PJuOR2fDnH"
      },
      "id": "_-PJuOR2fDnH",
      "execution_count": null,
      "outputs": []
    },
    {
      "cell_type": "markdown",
      "source": [
        "# Function Definitions"
      ],
      "metadata": {
        "id": "uSI5gMQ2fH-R"
      },
      "id": "uSI5gMQ2fH-R"
    },
    {
      "cell_type": "code",
      "source": [
        "# Extract EEG only from video\n",
        "def ExtractEEGonlyFromVideo(idx_starts, transposedDataset, NofChannel):\n",
        "    values = np.arange(0, 40).tolist()\n",
        "    Sfreq = sfreq\n",
        "    Npoints = 60 * Sfreq\n",
        "    Actualvideodata = []\n",
        "\n",
        "    for i in values:\n",
        "        videostartindex = idx_starts[i]\n",
        "        totalvideolength = transposedDataset[videostartindex:videostartindex + Npoints]\n",
        "        Actualvideodata.append(totalvideolength)\n",
        "\n",
        "    Actualvideodata = np.array(Actualvideodata)\n",
        "    Actualvideodata = Actualvideodata.reshape(-1, NofChannel)\n",
        "    print(Actualvideodata.shape)\n",
        "\n",
        "    return Actualvideodata\n",
        "\n",
        "# Read dataset\n",
        "def readDataset(verbose=False):\n",
        "    raw = mne.io.read_raw_bdf('location_of_bdf_file', preload=True)\n",
        "    ch_names = ['EXG1', 'EXG2', 'EXG3', 'EXG4', 'EXG5', 'EXG6', 'EXG7', 'EXG8', 'GSR1', 'GSR2', 'Erg1', 'Erg2', 'Resp', 'Plet', 'Temp', 'Status']\n",
        "    Sfreq = 128\n",
        "    Npoints = 60 * Sfreq\n",
        "    rawDataset = raw.copy()\n",
        "    rawDataset.resample(sfreq=sfreq)\n",
        "\n",
        "    statusChan = rawDataset._data[47]\n",
        "    sampleRate = int(rawDataset.info['sfreq'])\n",
        "    min1 = sampleRate * 60\n",
        "    idx_starts = []\n",
        "    i = 0\n",
        "    while i <= statusChan.shape[0] - min1:\n",
        "        if statusChan[i] == 4:\n",
        "            idx_starts.append(i)\n",
        "            i = i + min1\n",
        "        else:\n",
        "            i += 1\n",
        "\n",
        "    rawDataset32 = rawDataset.copy().drop_channels(ch_names, on_missing='raise')\n",
        "    channelNames = ['Fp1', 'AF3', 'F7', 'F3', 'FC1', 'FC5', 'T7', 'C3', 'CP1', 'CP5', 'P7',\n",
        "                    'P3', 'Pz', 'PO3', 'O1', 'Oz', 'O2', 'PO4', 'P4', 'P8', 'CP6', 'CP2',\n",
        "                    'C4', 'T8', 'FC6', 'FC2', 'F4', 'F8', 'AF4', 'Fp2', 'Fz', 'Cz']\n",
        "\n",
        "    rawDataset48 = rawDataset.copy().filter(0.1, 50., fir_design='firwin')\n",
        "    rawDataset32.filter(0.1, 50., fir_design='firwin')\n",
        "    rawDatasetReReferenced32 = rawDataset32.copy().set_eeg_reference(ref_channels='average')\n",
        "    rawDatasetForMontageLocation = rawDatasetReReferenced32.copy()\n",
        "    rawDatasetReReferenced48 = rawDataset48.copy().set_eeg_reference(ref_channels='average')\n",
        "\n",
        "    transposedDataset48 = np.transpose(rawDataset48._data)\n",
        "    transposedDataset32 = np.transpose(rawDatasetReReferenced32._data)\n",
        "\n",
        "    Actualvideodata48 = ExtractEEGonlyFromVideo(idx_starts, transposedDataset48, OriginalNumberofChannels)\n",
        "    Actualvideodata32 = ExtractEEGonlyFromVideo(idx_starts, transposedDataset32, NumberOfEEGChannel)\n",
        "\n",
        "    return Actualvideodata32, Actualvideodata48, rawDatasetForMontageLocation\n",
        "\n",
        "# Get channel names\n",
        "def getChannelNames():\n",
        "    channelNames1 = ['Fp1', 'AF3', 'F7', 'F3', 'FC1', 'FC5', 'T7', 'C3', 'CP1', 'CP5', 'P7',\n",
        "                     'P3', 'Pz', 'PO3', 'O1', 'Oz', 'O2', 'PO4', 'P4', 'P8', 'CP6', 'CP2',\n",
        "                     'C4', 'T8', 'FC6', 'FC2', 'F4', 'F8', 'AF4', 'Fp2', 'Fz', 'Cz']\n",
        "    return channelNames1\n",
        "\n",
        "# Get channel info for sample\n",
        "def getChannellInfoForSample(channelNames1, channelValues, onlyValues=False):\n",
        "    channelValuesforCurrentSample = []\n",
        "    for i, ch in enumerate(channelNames1):\n",
        "        chValue = channelValues[i]\n",
        "        if onlyValues:\n",
        "            channelValuesforCurrentSample.append(chValue)\n",
        "        else:\n",
        "            channelValuesforCurrentSample.append((ch, chValue))\n",
        "    return channelValuesforCurrentSample\n",
        "\n",
        "# Convert Cartesian to Spherical coordinates\n",
        "def cart2sph(x, y, z):\n",
        "    x2_y2 = x**2 + y**2\n",
        "    r = m.sqrt(x2_y2 + z**2)\n",
        "    elev = m.atan2(z, m.sqrt(x2_y2))\n",
        "    az = m.atan2(y, x)\n",
        "    return r, elev, az\n",
        "\n",
        "# Convert Polar to Cartesian coordinates\n",
        "def pol2cart(theta, rho):\n",
        "    return rho * m.cos(theta), rho * m.sin(theta)\n",
        "\n",
        "# Azimuthal Equidistant Projection\n",
        "def azim_proj(pos):\n",
        "    [r, elev, az] = cart2sph(pos[0], pos[1], pos[2])\n",
        "    return pol2cart(az, m.pi / 2 - elev)\n",
        "\n",
        "# Get 3D coordinates\n",
        "def get3DCoordinates(MontageChannelLocation, EEGChannels):\n",
        "    MontageChannelLocation = MontageChannelLocation[-EEGChannels:]\n",
        "    location = []\n",
        "    for i in range(32):\n",
        "        v = list(MontageChannelLocation[i].values())\n",
        "        location.append(v[1] * 1000)\n",
        "    MontageLocation = np.round(np.array(location), 1).tolist()\n",
        "    return MontageLocation\n",
        "\n",
        "# Convert 3D to 2D\n",
        "def convert3DTo2D(pos_3d):\n",
        "    pos_2d = [azim_proj(e) for e in pos_3d]\n",
        "    return pos_2d\n",
        "\n",
        "# Get matrix indexes from 2D positions\n",
        "def getMatrixIndexesFrom2DPositions(xPos, yPos, minX, minY, maxX, maxY, numChannels, CordinateYellowRegion, verbose=False):\n",
        "    x = ((xPos - minX) * (numChannels - 1)) / (maxX - minX)\n",
        "    y = ((yPos - minY) * (numChannels - 1)) / (maxY - minY)\n",
        "    indexX = round(x)\n",
        "    indexY = round(y)\n",
        "\n",
        "    if [indexX, indexY] not in CordinateYellowRegion.tolist():\n",
        "        indexX1, indexY1 = indexX, indexY\n",
        "    elif ([indexX, indexY + 1] not in CordinateYellowRegion.tolist()) and ([indexX, indexY + 1] != [indexX, lengthOfTopographicMap]):\n",
        "        indexX1, indexY1 = indexX, indexY + 1\n",
        "    elif [indexX, indexY - 1] not in CordinateYellowRegion.tolist():\n",
        "        indexX1, indexY1 = indexX, indexY - 1\n",
        "    elif ([indexX - 1, indexY] not in CordinateYellowRegion.tolist()) and ([indexX - 1, indexY] != [-1, indexY]):\n",
        "        indexX1, indexY1 = indexX - 1, indexY\n",
        "    else:\n",
        "        indexX1, indexY1 = indexX + 1, indexY\n",
        "\n",
        "    if verbose:\n",
        "        print(f\"Transformed positions: {x}, {y} - Generated matrix indexes: {indexX}, {indexY}\")\n",
        "\n",
        "    return indexX1, indexY1\n",
        "\n",
        "# Get 2D topographic map channel indexes\n",
        "def get2DTopographicMapChannelIndexes(lengthOfTopographicMap, CordinateYellowRegion):\n",
        "    pos3D = get3DCoordinates(MontageChannelLocation, NumberOfEEGChannel)\n",
        "    pos2D = convert3DTo2D(pos3D)\n",
        "\n",
        "    minX = min(pos2D, key=lambda t: t[0])[0]\n",
        "    maxX = max(pos2D, key=lambda t: t[0])[0]\n",
        "    minY = min(pos2D, key=lambda t: t[1])[1]\n",
        "    maxY = max(pos2D, key=lambda t: t[1])[1]\n",
        "\n",
        "    coordinates2dWithoutScale = []\n",
        "    for ch in pos2D:\n",
        "        x, y = getMatrixIndexesFrom2DPositions(ch[0], ch[1], minX, minY, maxX, maxY, lengthOfTopographicMap, CordinateYellowRegion)\n",
        "        coordinates2dWithoutScale.append((x, y))\n",
        "\n",
        "    return coordinates2dWithoutScale\n",
        "\n",
        "# Visualization of 2D map\n",
        "def visualize2DMap(channelValues):\n",
        "    channelNames1 = getChannelNames()\n",
        "    pos2d = get2DTopographicMapChannelIndexes(lengthOfTopographicMap, CordinateYellowRegion)\n",
        "    Topomap = np.zeros((40, 40))\n",
        "    channelInfo = getChannellInfoForSample(channelNames1, channelValues)\n",
        "\n",
        "    for (pos, info) in zip(pos2d, channelInfo):\n",
        "        Topomap[pos[0], pos[1]] = info[1]\n",
        "\n",
        "    return Topomap\n",
        "\n",
        "# Generate a dataset with a 2D topographic map and output values\n",
        "def generateDatasetWith2DTopographicMapAndOutputValues():\n",
        "    channelValues48 = readDataset(verbose=False)[1]\n",
        "    channelNames1 = getChannelNames()\n",
        "\n",
        "    newDataset = []\n",
        "    for sample in channelValues48:\n",
        "        channelValues32 = getChannellInfoForSample(channelNames1, sample, onlyValues=True)\n",
        "        newSample = visualize2DMap(channelValues32)\n",
        "        newDataset.append(newSample)\n",
        "\n",
        "    newDataset = np.array(newDataset)\n",
        "    return newDataset"
      ],
      "metadata": {
        "id": "IUSt7wWdgsdU"
      },
      "id": "IUSt7wWdgsdU",
      "execution_count": null,
      "outputs": []
    },
    {
      "cell_type": "markdown",
      "source": [
        "# Generate and Save Topographic Maps"
      ],
      "metadata": {
        "id": "28zfA-8tisls"
      },
      "id": "28zfA-8tisls"
    },
    {
      "cell_type": "code",
      "source": [
        "# Initialise grid\n",
        "CordinateYellowRegion = np.array(np.where(np.zeros((40, 40)))).T\n",
        "MontageChannelLocation = mne.channels.read_montage('standard_1020').get_positions()['ch_pos']\n",
        "lengthOfTopographicMap = 40\n",
        "\n",
        "# Generate and save the dataset\n",
        "topographicMapDataset = generateDatasetWith2DTopographicMapAndOutputValues()\n",
        "np.save('location_to_save_npy_file/topographicMapDataset.npy', topographicMapDataset)\n",
        "\n",
        "# Print shape\n",
        "print(f\"Generated dataset shape: {topographicMapDataset.shape}\")"
      ],
      "metadata": {
        "id": "OXm2xe8bj4xg"
      },
      "id": "OXm2xe8bj4xg",
      "execution_count": null,
      "outputs": []
    }
  ],
  "metadata": {
    "kernelspec": {
      "display_name": "Python 3 (ipykernel)",
      "language": "python",
      "name": "python3"
    },
    "language_info": {
      "codemirror_mode": {
        "name": "ipython",
        "version": 3
      },
      "file_extension": ".py",
      "mimetype": "text/x-python",
      "name": "python",
      "nbconvert_exporter": "python",
      "pygments_lexer": "ipython3",
      "version": "3.8.16"
    },
    "colab": {
      "provenance": []
    }
  },
  "nbformat": 4,
  "nbformat_minor": 5
}