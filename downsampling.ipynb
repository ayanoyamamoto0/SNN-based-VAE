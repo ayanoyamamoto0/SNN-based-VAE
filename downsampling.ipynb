{
  "cells": [
    {
      "cell_type": "code",
      "source": [
        "# Connect to Google Drive\n",
        "from google.colab import drive\n",
        "drive.mount('/content/drive')"
      ],
      "metadata": {
        "id": "v5j_CNLiMR9g"
      },
      "id": "v5j_CNLiMR9g",
      "execution_count": null,
      "outputs": []
    },
    {
      "cell_type": "code",
      "execution_count": null,
      "id": "373d3536-4276-4cf9-bc3e-b1092a0c539a",
      "metadata": {
        "id": "373d3536-4276-4cf9-bc3e-b1092a0c539a"
      },
      "outputs": [],
      "source": [
        "# Import necessary library\n",
        "import numpy as np"
      ]
    },
    {
      "cell_type": "code",
      "execution_count": null,
      "id": "bc4fbcd4-9126-47d9-80cb-b9d1d536463a",
      "metadata": {
        "id": "bc4fbcd4-9126-47d9-80cb-b9d1d536463a"
      },
      "outputs": [],
      "source": [
        "# Load the topographic maps numpy array\n",
        "topographic_maps = np.load('location_of_npy_file')"
      ]
    },
    {
      "cell_type": "code",
      "execution_count": null,
      "id": "7dad935f-c15a-4e56-b415-a5f16be1ea5c",
      "metadata": {
        "id": "7dad935f-c15a-4e56-b415-a5f16be1ea5c"
      },
      "outputs": [],
      "source": [
        "# Randomly sample 10000 images\n",
        "random_indices = np.random.choice(topographic_maps.shape[0], 10000, replace=False)\n",
        "sampled_maps = topographic_maps[random_indices]\n",
        "\n",
        "# Save the sampled maps to a new .npy file\n",
        "np.save('sampled_topographic_maps_10000.npy', sampled_maps)"
      ]
    }
  ],
  "metadata": {
    "kernelspec": {
      "display_name": "Python 3 (ipykernel)",
      "language": "python",
      "name": "python3"
    },
    "language_info": {
      "codemirror_mode": {
        "name": "ipython",
        "version": 3
      },
      "file_extension": ".py",
      "mimetype": "text/x-python",
      "name": "python",
      "nbconvert_exporter": "python",
      "pygments_lexer": "ipython3",
      "version": "3.10.13"
    },
    "colab": {
      "provenance": []
    }
  },
  "nbformat": 4,
  "nbformat_minor": 5
}